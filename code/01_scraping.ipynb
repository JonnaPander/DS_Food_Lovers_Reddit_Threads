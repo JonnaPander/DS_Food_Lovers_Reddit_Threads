{
 "cells": [
  {
   "cell_type": "code",
   "execution_count": 143,
   "metadata": {},
   "outputs": [],
   "source": [
    "# Import libraries\n",
    "import requests\n",
    "import time\n",
    "import pandas as pd"
   ]
  },
  {
   "cell_type": "code",
   "execution_count": 146,
   "metadata": {},
   "outputs": [
    {
     "name": "stdout",
     "output_type": "stream",
     "text": [
      "0\n",
      "1\n",
      "2\n",
      "3\n",
      "4\n",
      "5\n",
      "6\n",
      "7\n",
      "8\n",
      "9\n",
      "10\n",
      "11\n",
      "12\n",
      "13\n",
      "14\n",
      "15\n",
      "16\n",
      "17\n",
      "18\n",
      "19\n",
      "20\n",
      "21\n",
      "22\n",
      "23\n",
      "24\n",
      "25\n",
      "26\n",
      "27\n",
      "28\n"
     ]
    }
   ],
   "source": [
    "# Pull data from IndianFood Reddit\n",
    "\n",
    "indian_posts = []\n",
    "before = None\n",
    "for i in range(29):\n",
    "    print(i)\n",
    "    if before == None:\n",
    "        params = {'subreddit': 'IndianFood', 'size': 500}\n",
    "    else:\n",
    "        params = {'before' : before, 'subreddit': 'IndianFood', 'size': 500}\n",
    "    url = 'https://api.pushshift.io/reddit/search/submission'\n",
    "    res = requests.get(url, params)\n",
    "    if res.status_code == 200:\n",
    "        data = res.json()\n",
    "        indian_posts.extend(data['data'])\n",
    "    else:\n",
    "        print(res.status_code)\n",
    "    before = data['data'][-1]['created_utc']\n",
    "    time.sleep(3)"
   ]
  },
  {
   "cell_type": "code",
   "execution_count": 152,
   "metadata": {},
   "outputs": [
    {
     "data": {
      "text/html": [
       "<div>\n",
       "<style scoped>\n",
       "    .dataframe tbody tr th:only-of-type {\n",
       "        vertical-align: middle;\n",
       "    }\n",
       "\n",
       "    .dataframe tbody tr th {\n",
       "        vertical-align: top;\n",
       "    }\n",
       "\n",
       "    .dataframe thead th {\n",
       "        text-align: right;\n",
       "    }\n",
       "</style>\n",
       "<table border=\"1\" class=\"dataframe\">\n",
       "  <thead>\n",
       "    <tr style=\"text-align: right;\">\n",
       "      <th></th>\n",
       "      <th>Titles</th>\n",
       "      <th>Subreddit</th>\n",
       "    </tr>\n",
       "  </thead>\n",
       "  <tbody>\n",
       "    <tr>\n",
       "      <th>0</th>\n",
       "      <td>Help needed!</td>\n",
       "      <td>IndianFood</td>\n",
       "    </tr>\n",
       "    <tr>\n",
       "      <th>1</th>\n",
       "      <td>Sheer Khurma Recipe in Hindi | How to make She...</td>\n",
       "      <td>IndianFood</td>\n",
       "    </tr>\n",
       "    <tr>\n",
       "      <th>2</th>\n",
       "      <td>Green revolution in india</td>\n",
       "      <td>IndianFood</td>\n",
       "    </tr>\n",
       "    <tr>\n",
       "      <th>3</th>\n",
       "      <td>Food grain production in india fy 19-20</td>\n",
       "      <td>IndianFood</td>\n",
       "    </tr>\n",
       "    <tr>\n",
       "      <th>4</th>\n",
       "      <td>Has anyone tried making red curry paste in the...</td>\n",
       "      <td>IndianFood</td>\n",
       "    </tr>\n",
       "  </tbody>\n",
       "</table>\n",
       "</div>"
      ],
      "text/plain": [
       "                                              Titles   Subreddit\n",
       "0                                       Help needed!  IndianFood\n",
       "1  Sheer Khurma Recipe in Hindi | How to make She...  IndianFood\n",
       "2                          Green revolution in india  IndianFood\n",
       "3            Food grain production in india fy 19-20  IndianFood\n",
       "4  Has anyone tried making red curry paste in the...  IndianFood"
      ]
     },
     "execution_count": 152,
     "metadata": {},
     "output_type": "execute_result"
    }
   ],
   "source": [
    "# Create IndianFood Dataframe\n",
    "\n",
    "indian_titles = []\n",
    "for i in range(len(indian_posts)):\n",
    "    indian_titles.append(indian_posts[i]['title'])\n",
    "        \n",
    "indian_subreddit = []\n",
    "for i in range(len(indian_posts)):\n",
    "    indian_subreddit.append(indian_posts[i]['subreddit'])\n",
    "    \n",
    "indian_dict = {\n",
    "    'Titles': indian_titles,\n",
    "    'Subreddit': indian_subreddit\n",
    "}\n",
    "\n",
    "indian_df = pd.DataFrame(indian_dict)\n",
    "indian_df.head()"
   ]
  },
  {
   "cell_type": "code",
   "execution_count": 153,
   "metadata": {},
   "outputs": [
    {
     "data": {
      "text/plain": [
       "(14055, 2)"
      ]
     },
     "execution_count": 153,
     "metadata": {},
     "output_type": "execute_result"
    }
   ],
   "source": [
    "# Check shape of Indian Food df\n",
    "\n",
    "indian_df.shape"
   ]
  },
  {
   "cell_type": "code",
   "execution_count": 138,
   "metadata": {},
   "outputs": [],
   "source": [
    "# Look at first post\n",
    "# Is you have a list of dictionaries, you have a pandas dataframe\n",
    "# before adding before param\n",
    "    # post 1: 1589647781 : Saturday, May 16, 2020 4:49:41 PM\n",
    "    # post 500: 1589163083 : Monday, May 11, 2020 2:11:23 AM\n",
    "# added param: 'before': 1589163083\n",
    "    # post 1: 1589161373 : Monday, May 11, 2020 1:42:53 AM\n",
    "    # post 500: 1588719420 : Tuesday, May 5, 2020 10:57:00 PM\n",
    "# posts[1]"
   ]
  },
  {
   "cell_type": "code",
   "execution_count": 154,
   "metadata": {},
   "outputs": [],
   "source": [
    "indian_df.to_csv('../data/IndianFood.csv', index=False)"
   ]
  },
  {
   "cell_type": "code",
   "execution_count": 157,
   "metadata": {},
   "outputs": [
    {
     "name": "stdout",
     "output_type": "stream",
     "text": [
      "0\n",
      "1\n",
      "2\n",
      "3\n",
      "4\n",
      "5\n",
      "6\n",
      "7\n",
      "8\n",
      "9\n",
      "10\n",
      "11\n",
      "12\n",
      "13\n",
      "14\n",
      "15\n",
      "16\n",
      "17\n",
      "18\n",
      "19\n",
      "20\n",
      "21\n",
      "22\n",
      "23\n",
      "24\n",
      "25\n",
      "26\n"
     ]
    }
   ],
   "source": [
    "# Pull data from whole30 Reddit\n",
    "\n",
    "whole30_posts = []\n",
    "before = None\n",
    "for i in range(27):\n",
    "    print(i)\n",
    "    if before == None:\n",
    "        params = {'subreddit': 'whole30', 'size': 500}\n",
    "    else:\n",
    "        params = {'before' : before, 'subreddit': 'whole30', 'size': 500}\n",
    "    url = 'https://api.pushshift.io/reddit/search/submission'\n",
    "    res = requests.get(url, params)\n",
    "    if res.status_code == 200:\n",
    "        data = res.json()\n",
    "        whole30_posts.extend(data['data'])\n",
    "    else:\n",
    "        print(res.status_code)\n",
    "    before = data['data'][-1]['created_utc']\n",
    "    time.sleep(2)"
   ]
  },
  {
   "cell_type": "code",
   "execution_count": 159,
   "metadata": {},
   "outputs": [
    {
     "data": {
      "text/html": [
       "<div>\n",
       "<style scoped>\n",
       "    .dataframe tbody tr th:only-of-type {\n",
       "        vertical-align: middle;\n",
       "    }\n",
       "\n",
       "    .dataframe tbody tr th {\n",
       "        vertical-align: top;\n",
       "    }\n",
       "\n",
       "    .dataframe thead th {\n",
       "        text-align: right;\n",
       "    }\n",
       "</style>\n",
       "<table border=\"1\" class=\"dataframe\">\n",
       "  <thead>\n",
       "    <tr style=\"text-align: right;\">\n",
       "      <th></th>\n",
       "      <th>Titles</th>\n",
       "      <th>Subreddit</th>\n",
       "    </tr>\n",
       "  </thead>\n",
       "  <tbody>\n",
       "    <tr>\n",
       "      <th>0</th>\n",
       "      <td>My meal prep for the week! I was excited to tr...</td>\n",
       "      <td>whole30</td>\n",
       "    </tr>\n",
       "    <tr>\n",
       "      <th>1</th>\n",
       "      <td>Tips for someone who succeeded once, then fail...</td>\n",
       "      <td>whole30</td>\n",
       "    </tr>\n",
       "    <tr>\n",
       "      <th>2</th>\n",
       "      <td>Will this diet help me?</td>\n",
       "      <td>whole30</td>\n",
       "    </tr>\n",
       "    <tr>\n",
       "      <th>3</th>\n",
       "      <td>/r/Whole30 Daily Update Thread - May 24, 2020</td>\n",
       "      <td>whole30</td>\n",
       "    </tr>\n",
       "    <tr>\n",
       "      <th>4</th>\n",
       "      <td>R1D14: Needed a quick and light lunch! Slice o...</td>\n",
       "      <td>whole30</td>\n",
       "    </tr>\n",
       "  </tbody>\n",
       "</table>\n",
       "</div>"
      ],
      "text/plain": [
       "                                              Titles Subreddit\n",
       "0  My meal prep for the week! I was excited to tr...   whole30\n",
       "1  Tips for someone who succeeded once, then fail...   whole30\n",
       "2                            Will this diet help me?   whole30\n",
       "3      /r/Whole30 Daily Update Thread - May 24, 2020   whole30\n",
       "4  R1D14: Needed a quick and light lunch! Slice o...   whole30"
      ]
     },
     "execution_count": 159,
     "metadata": {},
     "output_type": "execute_result"
    }
   ],
   "source": [
    "# Create whole30 Dataframe\n",
    "\n",
    "whole30_titles = []\n",
    "for i in range(len(whole30_posts)):\n",
    "    whole30_titles.append(whole30_posts[i]['title'])\n",
    "        \n",
    "whole30_subreddit = []\n",
    "for i in range(len(whole30_posts)):\n",
    "    whole30_subreddit.append(whole30_posts[i]['subreddit'])\n",
    "    \n",
    "whole30_dict = {\n",
    "    'Titles': whole30_titles,\n",
    "    'Subreddit': whole30_subreddit\n",
    "}\n",
    "\n",
    "whole30_df = pd.DataFrame(whole30_dict)\n",
    "whole30_df.head()"
   ]
  },
  {
   "cell_type": "code",
   "execution_count": 160,
   "metadata": {},
   "outputs": [
    {
     "data": {
      "text/plain": [
       "(13097, 2)"
      ]
     },
     "execution_count": 160,
     "metadata": {},
     "output_type": "execute_result"
    }
   ],
   "source": [
    "whole30_df.shape"
   ]
  },
  {
   "cell_type": "code",
   "execution_count": 161,
   "metadata": {},
   "outputs": [],
   "source": [
    "whole30_df.to_csv('../data/whole30.csv', index=False)"
   ]
  },
  {
   "cell_type": "markdown",
   "metadata": {},
   "source": [
    "#### Read in Dataframes"
   ]
  },
  {
   "cell_type": "code",
   "execution_count": 162,
   "metadata": {},
   "outputs": [
    {
     "data": {
      "text/html": [
       "<div>\n",
       "<style scoped>\n",
       "    .dataframe tbody tr th:only-of-type {\n",
       "        vertical-align: middle;\n",
       "    }\n",
       "\n",
       "    .dataframe tbody tr th {\n",
       "        vertical-align: top;\n",
       "    }\n",
       "\n",
       "    .dataframe thead th {\n",
       "        text-align: right;\n",
       "    }\n",
       "</style>\n",
       "<table border=\"1\" class=\"dataframe\">\n",
       "  <thead>\n",
       "    <tr style=\"text-align: right;\">\n",
       "      <th></th>\n",
       "      <th>Titles</th>\n",
       "      <th>Subreddit</th>\n",
       "    </tr>\n",
       "  </thead>\n",
       "  <tbody>\n",
       "    <tr>\n",
       "      <th>0</th>\n",
       "      <td>Help needed!</td>\n",
       "      <td>IndianFood</td>\n",
       "    </tr>\n",
       "    <tr>\n",
       "      <th>1</th>\n",
       "      <td>Sheer Khurma Recipe in Hindi | How to make She...</td>\n",
       "      <td>IndianFood</td>\n",
       "    </tr>\n",
       "    <tr>\n",
       "      <th>2</th>\n",
       "      <td>Green revolution in india</td>\n",
       "      <td>IndianFood</td>\n",
       "    </tr>\n",
       "    <tr>\n",
       "      <th>3</th>\n",
       "      <td>Food grain production in india fy 19-20</td>\n",
       "      <td>IndianFood</td>\n",
       "    </tr>\n",
       "    <tr>\n",
       "      <th>4</th>\n",
       "      <td>Has anyone tried making red curry paste in the...</td>\n",
       "      <td>IndianFood</td>\n",
       "    </tr>\n",
       "  </tbody>\n",
       "</table>\n",
       "</div>"
      ],
      "text/plain": [
       "                                              Titles   Subreddit\n",
       "0                                       Help needed!  IndianFood\n",
       "1  Sheer Khurma Recipe in Hindi | How to make She...  IndianFood\n",
       "2                          Green revolution in india  IndianFood\n",
       "3            Food grain production in india fy 19-20  IndianFood\n",
       "4  Has anyone tried making red curry paste in the...  IndianFood"
      ]
     },
     "execution_count": 162,
     "metadata": {},
     "output_type": "execute_result"
    }
   ],
   "source": [
    "indian_food = pd.read_csv('../data/IndianFood.csv')\n",
    "indian_food.head()"
   ]
  },
  {
   "cell_type": "code",
   "execution_count": 163,
   "metadata": {},
   "outputs": [
    {
     "data": {
      "text/html": [
       "<div>\n",
       "<style scoped>\n",
       "    .dataframe tbody tr th:only-of-type {\n",
       "        vertical-align: middle;\n",
       "    }\n",
       "\n",
       "    .dataframe tbody tr th {\n",
       "        vertical-align: top;\n",
       "    }\n",
       "\n",
       "    .dataframe thead th {\n",
       "        text-align: right;\n",
       "    }\n",
       "</style>\n",
       "<table border=\"1\" class=\"dataframe\">\n",
       "  <thead>\n",
       "    <tr style=\"text-align: right;\">\n",
       "      <th></th>\n",
       "      <th>Titles</th>\n",
       "      <th>Subreddit</th>\n",
       "    </tr>\n",
       "  </thead>\n",
       "  <tbody>\n",
       "    <tr>\n",
       "      <th>0</th>\n",
       "      <td>My meal prep for the week! I was excited to tr...</td>\n",
       "      <td>whole30</td>\n",
       "    </tr>\n",
       "    <tr>\n",
       "      <th>1</th>\n",
       "      <td>Tips for someone who succeeded once, then fail...</td>\n",
       "      <td>whole30</td>\n",
       "    </tr>\n",
       "    <tr>\n",
       "      <th>2</th>\n",
       "      <td>Will this diet help me?</td>\n",
       "      <td>whole30</td>\n",
       "    </tr>\n",
       "    <tr>\n",
       "      <th>3</th>\n",
       "      <td>/r/Whole30 Daily Update Thread - May 24, 2020</td>\n",
       "      <td>whole30</td>\n",
       "    </tr>\n",
       "    <tr>\n",
       "      <th>4</th>\n",
       "      <td>R1D14: Needed a quick and light lunch! Slice o...</td>\n",
       "      <td>whole30</td>\n",
       "    </tr>\n",
       "  </tbody>\n",
       "</table>\n",
       "</div>"
      ],
      "text/plain": [
       "                                              Titles Subreddit\n",
       "0  My meal prep for the week! I was excited to tr...   whole30\n",
       "1  Tips for someone who succeeded once, then fail...   whole30\n",
       "2                            Will this diet help me?   whole30\n",
       "3      /r/Whole30 Daily Update Thread - May 24, 2020   whole30\n",
       "4  R1D14: Needed a quick and light lunch! Slice o...   whole30"
      ]
     },
     "execution_count": 163,
     "metadata": {},
     "output_type": "execute_result"
    }
   ],
   "source": [
    "whole30 = pd.read_csv('../data/whole30.csv')\n",
    "whole30.head()"
   ]
  },
  {
   "cell_type": "code",
   "execution_count": null,
   "metadata": {},
   "outputs": [],
   "source": []
  }
 ],
 "metadata": {
  "kernelspec": {
   "display_name": "Python 3",
   "language": "python",
   "name": "python3"
  },
  "language_info": {
   "codemirror_mode": {
    "name": "ipython",
    "version": 3
   },
   "file_extension": ".py",
   "mimetype": "text/x-python",
   "name": "python",
   "nbconvert_exporter": "python",
   "pygments_lexer": "ipython3",
   "version": "3.7.6"
  }
 },
 "nbformat": 4,
 "nbformat_minor": 4
}
